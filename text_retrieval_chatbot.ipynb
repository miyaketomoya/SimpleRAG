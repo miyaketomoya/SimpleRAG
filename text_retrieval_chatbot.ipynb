{
 "cells": [
  {
   "cell_type": "code",
   "execution_count": 1,
   "metadata": {},
   "outputs": [],
   "source": [
    "from langchain_community.document_loaders import PyPDFLoader\n",
    "from langchain_community.vectorstores import FAISS\n",
    "from langchain_openai import OpenAIEmbeddings,ChatOpenAI\n",
    "from langchain.text_splitter import CharacterTextSplitter\n",
    "from langchain.prompts.chat import ChatPromptTemplate, SystemMessagePromptTemplate, HumanMessagePromptTemplate\n",
    "import os"
   ]
  },
  {
   "cell_type": "code",
   "execution_count": 2,
   "metadata": {},
   "outputs": [],
   "source": [
    "#使用するファイル\n",
    "file_path = \"PDF_FILE\"\n",
    "#使用するapi\n",
    "openai_api_key = \"YOUR_API_KEY\"\n",
    "#分割するチャンクサイズ\n",
    "chunk_size = 100"
   ]
  },
  {
   "cell_type": "code",
   "execution_count": 3,
   "metadata": {},
   "outputs": [],
   "source": [
    "#Document object作成\n",
    "loader = PyPDFLoader(file_path=file_path).load()\n",
    "\n",
    "#適切なチャンクサイズに分割\n",
    "text_splitter = CharacterTextSplitter(chunk_size=chunk_size, chunk_overlap=0)\n",
    "texts = text_splitter.split_documents(loader)\n",
    "\n",
    "#embeddingsとFAISSオブジェクトを作成、ベクトル化して保存\n",
    "embeddings = OpenAIEmbeddings(api_key=openai_api_key)\n",
    "db = FAISS.from_documents(texts, embeddings)\n",
    "\n",
    "#retriever作成\n",
    "retriever = db.as_retriever(search_kwargs=dict(k=5))"
   ]
  },
  {
   "cell_type": "code",
   "execution_count": 4,
   "metadata": {},
   "outputs": [],
   "source": [
    "def rag_answer(retriever,model,question):\n",
    "    #questionをもとにretrieverで関連性のあるものを5件抽出\n",
    "    retrieved_docs = retriever.invoke(question)\n",
    "    #ChatPromptTemplateで文字を参照して、質問の回答を返すテンプレートを作成\n",
    "    system_message_template =  \"Based on the following documents:\\n\" + \"\\n\".join([doc.page_content for doc in retrieved_docs])\n",
    "    system_message_prompt = SystemMessagePromptTemplate.from_template(system_message_template)\n",
    "    human_message_prompt = HumanMessagePromptTemplate.from_template(\"{text}\")\n",
    "    chat_prompt = ChatPromptTemplate.from_messages([system_message_prompt, human_message_prompt])\n",
    "\n",
    "    #モデルに質問して、返答をreturn\n",
    "    response = model.invoke(chat_prompt.format_prompt(text=question).to_messages())\n",
    "    return response.content  "
   ]
  },
  {
   "cell_type": "code",
   "execution_count": 5,
   "metadata": {},
   "outputs": [
    {
     "name": "stdout",
     "output_type": "stream",
     "text": [
      "GPT-3 struggles on several datasets, including QuAC, DROP, RACE, ARC Challenge, and OpenBookQA. In QuAC, which requires modeling structured dialog acts and answer span selections of teacher-student interactions, GPT-3 performs poorly. In DROP, a dataset testing discrete reasoning and numeracy in reading comprehension, GPT-3 outperforms the fine-tuned BERT baseline but is still below human performance and state-of-the-art approaches. On RACE, a multiple-choice dataset of middle school and high school English examinations, GPT-3 performs weakly and is only competitive with early work using contextual representations. In ARC Challenge, a dataset of multiple-choice questions from 3rd to 9th grade science exams, GPT-3 achieves moderate accuracy but falls short of the overall state-of-the-art. Lastly, on OpenBookQA, GPT-3 shows improvement from zero to few-shot settings but still lags behind the overall state-of-the-art.\n"
     ]
    }
   ],
   "source": [
    "#モデルを作成\n",
    "model = ChatOpenAI(model=\"gpt-3.5-turbo\",temperature=0, openai_api_key=openai_api_key)\n",
    "\n",
    "#質問する\n",
    "question = \"On which datasets does GPT-3 struggle?\"\n",
    "answer = rag_answer(retriever,model,question)\n",
    "print(answer)"
   ]
  },
  {
   "cell_type": "code",
   "execution_count": null,
   "metadata": {},
   "outputs": [],
   "source": []
  }
 ],
 "metadata": {
  "kernelspec": {
   "display_name": "dev1",
   "language": "python",
   "name": "python3"
  },
  "language_info": {
   "codemirror_mode": {
    "name": "ipython",
    "version": 3
   },
   "file_extension": ".py",
   "mimetype": "text/x-python",
   "name": "python",
   "nbconvert_exporter": "python",
   "pygments_lexer": "ipython3",
   "version": "3.11.4"
  }
 },
 "nbformat": 4,
 "nbformat_minor": 2
}
